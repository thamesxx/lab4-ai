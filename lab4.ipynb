{
 "cells": [
  {
   "cell_type": "code",
   "execution_count": 1,
   "id": "a68d7229-d820-41f5-9cbe-334c90fd4868",
   "metadata": {},
   "outputs": [
    {
     "name": "stdout",
     "output_type": "stream",
     "text": [
      "Prediction for (Weather=Rainy, Temperature=Hot): yes\n"
     ]
    }
   ],
   "source": [
    "from sklearn import preprocessing\n",
    "from sklearn.naive_bayes import GaussianNB\n",
    "\n",
    "# New input data\n",
    "weather = ['rainy', 'overcast', 'sunny', 'rainy', 'sunny', 'overcast', 'sunny', 'rainy', 'overcast']\n",
    "temperature = ['cool', 'mild', 'hot', 'cool', 'hot', 'mild', 'cool', 'mild', 'hot']\n",
    "play = ['yes', 'no', 'yes', 'no', 'yes', 'yes', 'yes', 'no', 'no']\n",
    "\n",
    "# Encoding features\n",
    "weather_encoder = preprocessing.LabelEncoder()\n",
    "temperature_encoder = preprocessing.LabelEncoder()\n",
    "play_encoder = preprocessing.LabelEncoder()\n",
    "\n",
    "weather_encoded = weather_encoder.fit_transform(weather)\n",
    "temperature_encoded = temperature_encoder.fit_transform(temperature)\n",
    "play_encoded = play_encoder.fit_transform(play)\n",
    "\n",
    "# Combining features\n",
    "features = list(zip(weather_encoded, temperature_encoded))\n",
    "\n",
    "# Model training\n",
    "model = GaussianNB()\n",
    "model.fit(features, play_encoded)\n",
    "\n",
    "# Prediction\n",
    "test_weather = weather_encoder.transform(['rainy'])[0]\n",
    "test_temperature = temperature_encoder.transform(['hot'])[0]\n",
    "test_data = [[test_weather, test_temperature]]\n",
    "\n",
    "predicted = model.predict(test_data)\n",
    "\n",
    "# Decoding the prediction\n",
    "play_prediction = play_encoder.inverse_transform(predicted)\n",
    "print(\"Prediction for (Weather=Rainy, Temperature=Hot):\", play_prediction[0])\n"
   ]
  },
  {
   "cell_type": "code",
   "execution_count": 5,
   "id": "d422470d-566d-40cd-94b4-ca8ef4169676",
   "metadata": {},
   "outputs": [
    {
     "name": "stdout",
     "output_type": "stream",
     "text": [
      "Prediction for (age=middle_aged, income=low, student=yes, credit_rating=excellent): yes\n"
     ]
    }
   ],
   "source": [
    "from sklearn import preprocessing\n",
    "from sklearn.naive_bayes import CategoricalNB\n",
    "\n",
    "age = ['middle_aged', 'senior', 'youth', 'youth', 'senior', 'middle_aged', 'senior', 'youth', 'middle_aged', 'senior', \n",
    "       'senior', 'youth', 'middle_aged', 'youth']\n",
    "income = ['medium', 'low', 'high', 'medium', 'medium', 'high', 'low', 'medium', 'high', 'low', \n",
    "          'medium', 'medium', 'medium', 'low']\n",
    "student = ['yes', 'no', 'yes', 'no', 'yes', 'no', 'yes', 'yes', 'yes', 'no', \n",
    "           'yes', 'no', 'yes', 'yes']\n",
    "credit_rating = ['excellent', 'fair', 'fair', 'excellent', 'fair', 'fair', 'excellent', 'fair', 'excellent', 'fair', \n",
    "                 'excellent', 'fair', 'fair', 'fair']\n",
    "buys_computer = ['yes', 'no', 'yes', 'no', 'yes', 'yes', 'yes', 'yes', 'yes', 'no', \n",
    "                 'yes', 'no', 'yes', 'yes']\n",
    "\n",
    "le_age = preprocessing.LabelEncoder()\n",
    "le_income = preprocessing.LabelEncoder()\n",
    "le_student = preprocessing.LabelEncoder()\n",
    "le_credit_rating = preprocessing.LabelEncoder()\n",
    "le_buys_computer = preprocessing.LabelEncoder()\n",
    "\n",
    "age_encoded = le_age.fit_transform(age)\n",
    "income_encoded = le_income.fit_transform(income)\n",
    "student_encoded = le_student.fit_transform(student)\n",
    "credit_rating_encoded = le_credit_rating.fit_transform(credit_rating)\n",
    "buys_computer_encoded = le_buys_computer.fit_transform(buys_computer)\n",
    "\n",
    "# Combine features into a single dataset\n",
    "features = list(zip(age_encoded, income_encoded, student_encoded, credit_rating_encoded))\n",
    "\n",
    "# Initialize Naïve Bayes Classifier\n",
    "model = CategoricalNB()\n",
    "\n",
    "# Train the model with the dataset\n",
    "model.fit(features, buys_computer_encoded)\n",
    "\n",
    "# Encode the test data ('middle_aged', 'low', 'yes', 'excellent')\n",
    "test_data = [[le_age.transform(['middle_aged'])[0],\n",
    "              le_income.transform(['low'])[0],\n",
    "              le_student.transform(['yes'])[0],\n",
    "              le_credit_rating.transform(['excellent'])[0]]]\n",
    "\n",
    "# Perform prediction\n",
    "predicted = model.predict(test_data)\n",
    "\n",
    "# Decode the prediction back to the original label\n",
    "prediction = le_buys_computer.inverse_transform(predicted)\n",
    "print(\"Prediction for (age=middle_aged, income=low, student=yes, credit_rating=excellent):\", prediction[0])\n"
   ]
  },
  {
   "cell_type": "code",
   "execution_count": null,
   "id": "5276b373-5709-47f5-85fd-15e287a92b5f",
   "metadata": {},
   "outputs": [],
   "source": []
  }
 ],
 "metadata": {
  "kernelspec": {
   "display_name": "Python 3 (ipykernel)",
   "language": "python",
   "name": "python3"
  },
  "language_info": {
   "codemirror_mode": {
    "name": "ipython",
    "version": 3
   },
   "file_extension": ".py",
   "mimetype": "text/x-python",
   "name": "python",
   "nbconvert_exporter": "python",
   "pygments_lexer": "ipython3",
   "version": "3.12.7"
  }
 },
 "nbformat": 4,
 "nbformat_minor": 5
}
